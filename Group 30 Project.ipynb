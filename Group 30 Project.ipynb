{
 "cells": [
  {
   "cell_type": "markdown",
   "id": "2f5dad55-d697-456d-8344-911ed477b245",
   "metadata": {},
   "source": [
    "*Group 30 Contributers: Zhong Tan, Nicholas Low, Stephen Huang* \n",
    "\n",
    "*To group 30 members: add your name here as proof of contribution*"
   ]
  },
  {
   "cell_type": "markdown",
   "id": "2b22e142-5bdf-4f52-86e7-8d7e605697f6",
   "metadata": {},
   "source": [
    "To edit, go inside Jupyter. Click the diamond icon on the left bar. Click the cloud down arrow. Edit changes. Save. The project is now under [Changed]. Hover over it and click on the [+]. Fill in the summary with what you changed. Click [COMMIT]. Click the cloud up arrow. Everything is now updated."
   ]
  },
  {
   "cell_type": "markdown",
   "id": "0ed82041-34ed-433a-931d-deec1d8a5b41",
   "metadata": {},
   "source": [
    "**Using R and knn regression to predict used car costs in the US based on mileage, brand and year**"
   ]
  },
  {
   "cell_type": "markdown",
   "id": "c521c4f2-5c2f-4a7f-a864-17c9dd23e0b5",
   "metadata": {},
   "source": [
    "**Introduction**\n",
    "\n",
    "Being able to predict used car prices can save families thousands of dollars. By using the progam language R, we can plot graphs and get a prediction for how much a car may cost. We can use a method called regression and predict a numerical value for a used car's price based on factors we enter.\n",
    "\n",
    "We will predict the cost of a used car based on mileage and year. As background knowledge, we know that newer products with more technology cost more compared to older products with less features. We apply this knowledge to used cars in our prediction. We also know that used products are valued less than products in better conditions. Knowing that used or worn products are valued less is why we choose mileage as a factor. We believe that overall used car prices will be changed when we change mileage and year.\n",
    "\n",
    "In our example, we use linear regression, as we want interpretability in our final results. In contrast, another option, KNN regression, tends to be more confusing to interpret. With linear regression, we might be able to predict the cost of a used car based on mileage and year. We will be using used, American car prices scraped from the web. We have taken this dataset and put it into our group's repository for easy access. To extract this dataset, we will start with read_csv() of our comma seperated sheet in .csv format, USA_cars_datasets.csv.\n",
    "\n",
    "*Choose which RMSPE is lower in KNN vs linear regression*"
   ]
  },
  {
   "cell_type": "markdown",
   "id": "d997f6bc-2c8f-441a-9049-3f7bdfbfb0a3",
   "metadata": {},
   "source": [
    "**Preliminary exploratory analysis**\n",
    "\n",
    "First we load our libraries and set our seed to make sure our work is reproducible."
   ]
  },
  {
   "cell_type": "code",
   "execution_count": 1,
   "id": "8940af29-49f8-4f8c-970a-21083d9593a5",
   "metadata": {
    "vscode": {
     "languageId": "r"
    }
   },
   "outputs": [],
   "source": [
    "install.packages(\"tidyverse\")\n",
    "install.packages(\"readr\")\n",
    "options(repr.matrix.max.rows = 8)"
   ]
  },
  {
   "cell_type": "code",
   "execution_count": 8,
   "id": "91623a45-840f-4121-a5b7-3f1aca93ab66",
   "metadata": {
    "vscode": {
     "languageId": "r"
    }
   },
   "outputs": [],
   "source": [
    "library(tidyverse)\n",
    "library(readr)\n",
    "library(repr)\n",
    "library(rvest)\n",
    "library(stringr)\n",
    "library(RCurl)\n",
    "library(tidymodels)\n",
    "library(gridExtra)\n",
    "set.seed(0)"
   ]
  },
  {
   "cell_type": "markdown",
   "id": "1bd0d53c-01a3-4738-b448-d4192bd2cd22",
   "metadata": {},
   "source": [
    "Okay, let's see our data."
   ]
  },
  {
   "cell_type": "code",
   "execution_count": 5,
   "id": "f09f96ff-e78f-4f6b-b6b3-82f00481d0be",
   "metadata": {
    "vscode": {
     "languageId": "r"
    }
   },
   "outputs": [
    {
     "name": "stderr",
     "output_type": "stream",
     "text": [
      "\u001b[1m\u001b[22mNew names:\n",
      "\u001b[36m•\u001b[39m `` -> `...1`\n",
      "\u001b[1mRows: \u001b[22m\u001b[34m2499\u001b[39m \u001b[1mColumns: \u001b[22m\u001b[34m13\u001b[39m\n",
      "\u001b[36m──\u001b[39m \u001b[1mColumn specification\u001b[22m \u001b[36m────────────────────────────────────────────────────────\u001b[39m\n",
      "\u001b[1mDelimiter:\u001b[22m \",\"\n",
      "\u001b[31mchr\u001b[39m (8): brand, model, title_status, color, vin, state, country, condition\n",
      "\u001b[32mdbl\u001b[39m (5): ...1, price, year, mileage, lot\n",
      "\n",
      "\u001b[36mℹ\u001b[39m Use `spec()` to retrieve the full column specification for this data.\n",
      "\u001b[36mℹ\u001b[39m Specify the column types or set `show_col_types = FALSE` to quiet this message.\n"
     ]
    },
    {
     "data": {
      "text/html": [
       "<table class=\"dataframe\">\n",
       "<caption>A tibble: 6 × 13</caption>\n",
       "<thead>\n",
       "\t<tr><th scope=col>...1</th><th scope=col>price</th><th scope=col>brand</th><th scope=col>model</th><th scope=col>year</th><th scope=col>title_status</th><th scope=col>mileage</th><th scope=col>color</th><th scope=col>vin</th><th scope=col>lot</th><th scope=col>state</th><th scope=col>country</th><th scope=col>condition</th></tr>\n",
       "\t<tr><th scope=col>&lt;dbl&gt;</th><th scope=col>&lt;dbl&gt;</th><th scope=col>&lt;chr&gt;</th><th scope=col>&lt;chr&gt;</th><th scope=col>&lt;dbl&gt;</th><th scope=col>&lt;chr&gt;</th><th scope=col>&lt;dbl&gt;</th><th scope=col>&lt;chr&gt;</th><th scope=col>&lt;chr&gt;</th><th scope=col>&lt;dbl&gt;</th><th scope=col>&lt;chr&gt;</th><th scope=col>&lt;chr&gt;</th><th scope=col>&lt;chr&gt;</th></tr>\n",
       "</thead>\n",
       "<tbody>\n",
       "\t<tr><td>0</td><td> 6300</td><td>toyota   </td><td>cruiser</td><td>2008</td><td>clean vehicle</td><td>274117</td><td>black </td><td>jtezu11f88k007763</td><td>159348797</td><td>new jersey</td><td>usa</td><td>10 days left </td></tr>\n",
       "\t<tr><td>1</td><td> 2899</td><td>ford     </td><td>se     </td><td>2011</td><td>clean vehicle</td><td>190552</td><td>silver</td><td>2fmdk3gc4bbb02217</td><td>166951262</td><td>tennessee </td><td>usa</td><td>6 days left  </td></tr>\n",
       "\t<tr><td>2</td><td> 5350</td><td>dodge    </td><td>mpv    </td><td>2018</td><td>clean vehicle</td><td> 39590</td><td>silver</td><td>3c4pdcgg5jt346413</td><td>167655728</td><td>georgia   </td><td>usa</td><td>2 days left  </td></tr>\n",
       "\t<tr><td>3</td><td>25000</td><td>ford     </td><td>door   </td><td>2014</td><td>clean vehicle</td><td> 64146</td><td>blue  </td><td>1ftfw1et4efc23745</td><td>167753855</td><td>virginia  </td><td>usa</td><td>22 hours left</td></tr>\n",
       "\t<tr><td>4</td><td>27700</td><td>chevrolet</td><td>1500   </td><td>2018</td><td>clean vehicle</td><td>  6654</td><td>red   </td><td>3gcpcrec2jg473991</td><td>167763266</td><td>florida   </td><td>usa</td><td>22 hours left</td></tr>\n",
       "\t<tr><td>5</td><td> 5700</td><td>dodge    </td><td>mpv    </td><td>2018</td><td>clean vehicle</td><td> 45561</td><td>white </td><td>2c4rdgeg9jr237989</td><td>167655771</td><td>texas     </td><td>usa</td><td>2 days left  </td></tr>\n",
       "</tbody>\n",
       "</table>\n"
      ],
      "text/latex": [
       "A tibble: 6 × 13\n",
       "\\begin{tabular}{lllllllllllll}\n",
       " ...1 & price & brand & model & year & title\\_status & mileage & color & vin & lot & state & country & condition\\\\\n",
       " <dbl> & <dbl> & <chr> & <chr> & <dbl> & <chr> & <dbl> & <chr> & <chr> & <dbl> & <chr> & <chr> & <chr>\\\\\n",
       "\\hline\n",
       "\t 0 &  6300 & toyota    & cruiser & 2008 & clean vehicle & 274117 & black  & jtezu11f88k007763 & 159348797 & new jersey & usa & 10 days left \\\\\n",
       "\t 1 &  2899 & ford      & se      & 2011 & clean vehicle & 190552 & silver & 2fmdk3gc4bbb02217 & 166951262 & tennessee  & usa & 6 days left  \\\\\n",
       "\t 2 &  5350 & dodge     & mpv     & 2018 & clean vehicle &  39590 & silver & 3c4pdcgg5jt346413 & 167655728 & georgia    & usa & 2 days left  \\\\\n",
       "\t 3 & 25000 & ford      & door    & 2014 & clean vehicle &  64146 & blue   & 1ftfw1et4efc23745 & 167753855 & virginia   & usa & 22 hours left\\\\\n",
       "\t 4 & 27700 & chevrolet & 1500    & 2018 & clean vehicle &   6654 & red    & 3gcpcrec2jg473991 & 167763266 & florida    & usa & 22 hours left\\\\\n",
       "\t 5 &  5700 & dodge     & mpv     & 2018 & clean vehicle &  45561 & white  & 2c4rdgeg9jr237989 & 167655771 & texas      & usa & 2 days left  \\\\\n",
       "\\end{tabular}\n"
      ],
      "text/markdown": [
       "\n",
       "A tibble: 6 × 13\n",
       "\n",
       "| ...1 &lt;dbl&gt; | price &lt;dbl&gt; | brand &lt;chr&gt; | model &lt;chr&gt; | year &lt;dbl&gt; | title_status &lt;chr&gt; | mileage &lt;dbl&gt; | color &lt;chr&gt; | vin &lt;chr&gt; | lot &lt;dbl&gt; | state &lt;chr&gt; | country &lt;chr&gt; | condition &lt;chr&gt; |\n",
       "|---|---|---|---|---|---|---|---|---|---|---|---|---|\n",
       "| 0 |  6300 | toyota    | cruiser | 2008 | clean vehicle | 274117 | black  | jtezu11f88k007763 | 159348797 | new jersey | usa | 10 days left  |\n",
       "| 1 |  2899 | ford      | se      | 2011 | clean vehicle | 190552 | silver | 2fmdk3gc4bbb02217 | 166951262 | tennessee  | usa | 6 days left   |\n",
       "| 2 |  5350 | dodge     | mpv     | 2018 | clean vehicle |  39590 | silver | 3c4pdcgg5jt346413 | 167655728 | georgia    | usa | 2 days left   |\n",
       "| 3 | 25000 | ford      | door    | 2014 | clean vehicle |  64146 | blue   | 1ftfw1et4efc23745 | 167753855 | virginia   | usa | 22 hours left |\n",
       "| 4 | 27700 | chevrolet | 1500    | 2018 | clean vehicle |   6654 | red    | 3gcpcrec2jg473991 | 167763266 | florida    | usa | 22 hours left |\n",
       "| 5 |  5700 | dodge     | mpv     | 2018 | clean vehicle |  45561 | white  | 2c4rdgeg9jr237989 | 167655771 | texas      | usa | 2 days left   |\n",
       "\n"
      ],
      "text/plain": [
       "  ...1 price brand     model   year title_status  mileage color \n",
       "1 0     6300 toyota    cruiser 2008 clean vehicle 274117  black \n",
       "2 1     2899 ford      se      2011 clean vehicle 190552  silver\n",
       "3 2     5350 dodge     mpv     2018 clean vehicle  39590  silver\n",
       "4 3    25000 ford      door    2014 clean vehicle  64146  blue  \n",
       "5 4    27700 chevrolet 1500    2018 clean vehicle   6654  red   \n",
       "6 5     5700 dodge     mpv     2018 clean vehicle  45561  white \n",
       "  vin               lot       state      country condition    \n",
       "1 jtezu11f88k007763 159348797 new jersey usa     10 days left \n",
       "2 2fmdk3gc4bbb02217 166951262 tennessee  usa     6 days left  \n",
       "3 3c4pdcgg5jt346413 167655728 georgia    usa     2 days left  \n",
       "4 1ftfw1et4efc23745 167753855 virginia   usa     22 hours left\n",
       "5 3gcpcrec2jg473991 167763266 florida    usa     22 hours left\n",
       "6 2c4rdgeg9jr237989 167655771 texas      usa     2 days left  "
      ]
     },
     "metadata": {},
     "output_type": "display_data"
    }
   ],
   "source": [
    "car <- read_csv(\"https://raw.githubusercontent.com/zhtgeneral/Group-30-Official/main/Data/USA_cars_datasets.csv\")\n",
    "head(car)"
   ]
  },
  {
   "cell_type": "markdown",
   "id": "4dc24977-531d-46e0-b50e-abffa4a1c319",
   "metadata": {},
   "source": [
    "Our columns are number, price, brand, model, year, title, mileage, color, vin, lot, state, country and condition. We have 1 variable per column. We notice that we have 1 observation per row. This means we have a tidy dataset."
   ]
  },
  {
   "cell_type": "markdown",
   "id": "26b7a4fa-7aa7-402e-a93b-2e3b9fe13d0c",
   "metadata": {},
   "source": [
    "Since we're only looking at mileage and year, we will select those columns."
   ]
  },
  {
   "cell_type": "code",
   "execution_count": 11,
   "id": "354ee204-1b39-482b-a03d-c3b175ef48ad",
   "metadata": {},
   "outputs": [
    {
     "data": {
      "text/html": [
       "<table class=\"dataframe\">\n",
       "<caption>A tibble: 6 × 3</caption>\n",
       "<thead>\n",
       "\t<tr><th scope=col>price</th><th scope=col>year</th><th scope=col>mileage</th></tr>\n",
       "\t<tr><th scope=col>&lt;dbl&gt;</th><th scope=col>&lt;dbl&gt;</th><th scope=col>&lt;dbl&gt;</th></tr>\n",
       "</thead>\n",
       "<tbody>\n",
       "\t<tr><td> 6300</td><td>2008</td><td>274117</td></tr>\n",
       "\t<tr><td> 2899</td><td>2011</td><td>190552</td></tr>\n",
       "\t<tr><td> 5350</td><td>2018</td><td> 39590</td></tr>\n",
       "\t<tr><td>25000</td><td>2014</td><td> 64146</td></tr>\n",
       "\t<tr><td>27700</td><td>2018</td><td>  6654</td></tr>\n",
       "\t<tr><td> 5700</td><td>2018</td><td> 45561</td></tr>\n",
       "</tbody>\n",
       "</table>\n"
      ],
      "text/latex": [
       "A tibble: 6 × 3\n",
       "\\begin{tabular}{lll}\n",
       " price & year & mileage\\\\\n",
       " <dbl> & <dbl> & <dbl>\\\\\n",
       "\\hline\n",
       "\t  6300 & 2008 & 274117\\\\\n",
       "\t  2899 & 2011 & 190552\\\\\n",
       "\t  5350 & 2018 &  39590\\\\\n",
       "\t 25000 & 2014 &  64146\\\\\n",
       "\t 27700 & 2018 &   6654\\\\\n",
       "\t  5700 & 2018 &  45561\\\\\n",
       "\\end{tabular}\n"
      ],
      "text/markdown": [
       "\n",
       "A tibble: 6 × 3\n",
       "\n",
       "| price &lt;dbl&gt; | year &lt;dbl&gt; | mileage &lt;dbl&gt; |\n",
       "|---|---|---|\n",
       "|  6300 | 2008 | 274117 |\n",
       "|  2899 | 2011 | 190552 |\n",
       "|  5350 | 2018 |  39590 |\n",
       "| 25000 | 2014 |  64146 |\n",
       "| 27700 | 2018 |   6654 |\n",
       "|  5700 | 2018 |  45561 |\n",
       "\n"
      ],
      "text/plain": [
       "  price year mileage\n",
       "1  6300 2008 274117 \n",
       "2  2899 2011 190552 \n",
       "3  5350 2018  39590 \n",
       "4 25000 2014  64146 \n",
       "5 27700 2018   6654 \n",
       "6  5700 2018  45561 "
      ]
     },
     "metadata": {},
     "output_type": "display_data"
    }
   ],
   "source": [
    "car <- car |>\n",
    "       select(price, year, mileage)\n",
    "head(car)"
   ]
  },
  {
   "cell_type": "markdown",
   "id": "76205909-22a8-4afa-9160-253325796a98",
   "metadata": {},
   "source": [
    "This is our reduced data. With only 3 columns, it will be easier to work on it. Let's use linear regression while training it with our training data."
   ]
  },
  {
   "cell_type": "code",
   "execution_count": 16,
   "id": "f9c09f61-5692-41f2-b66c-1673ec905be7",
   "metadata": {
    "vscode": {
     "languageId": "r"
    }
   },
   "outputs": [],
   "source": [
    "car_split <- initial_split(car, prop = 0.75, strata =price)\n",
    "car_train <- training(car_split)\n",
    "car_test <- testing(car_split)\n",
    "\n",
    "car_recipe <- recipe(price ~ mileage, year, data = car_train) |>\n",
    "              step_scale(all_predictors()) |>\n",
    "              step_center(all_predictors())\n",
    "car_spec <- linear_reg() |>\n",
    "            set_engine(\"lm\") |>\n",
    "            set_mode(\"regression\")"
   ]
  },
  {
   "cell_type": "code",
   "execution_count": null,
   "id": "d89362ea-26c4-4c65-8dce-045300ac7f98",
   "metadata": {
    "vscode": {
     "languageId": "r"
    }
   },
   "outputs": [],
   "source": []
  },
  {
   "cell_type": "markdown",
   "id": "fb23b574-ff4c-434f-8973-d5be0ae3fed3",
   "metadata": {},
   "source": [
    "We can notice that BWMs are not as abundant as Fords, but BMWs cost more. If we have a random, used BWM, we expect that it costs more."
   ]
  },
  {
   "cell_type": "markdown",
   "id": "cdc7a111-8942-409a-ab36-87526514f346",
   "metadata": {},
   "source": [
    "**Methods**\n",
    "\n",
    "To conduct our data analysis, we will look at only mileage, production year of the car, and the brand. The lot number, vin number, state, and the day the listing was uploaded doesn't make a difference. We can visualize our results with many scatterplots. We can use a scatterplot with price on the y axis and year/mileage on the x axis then have a bar plot with price on the x axis and brand on the y axis (like the graph above). We can also get a  measure of accuracy if we use a model called knn regression. As car brands have an effect on the price of cars (as a car from a reputable or luxury car brand will generally be marketed at a higher price than a car with the same specs from a different car brand), we will be separating the data by the car brand and performing regression on every brand individually. This way, we are able to predict car prices accounting for individual brands. We can then visualize these in a line graph and place then together using the patchwork package.\n",
    "\n",
    "*KNN regression vs linear regression*\n",
    "\n",
    "*Use GGPairs*"
   ]
  },
  {
   "cell_type": "markdown",
   "id": "6a0a170b",
   "metadata": {},
   "source": [
    "To begin, we must read and clean the data:"
   ]
  },
  {
   "cell_type": "code",
   "execution_count": null,
   "id": "0ba26cff",
   "metadata": {
    "vscode": {
     "languageId": "r"
    }
   },
   "outputs": [],
   "source": [
    "#car_original_data <- read_csv(\"https://raw.githubusercontent.com/zhtgeneral/Group-30-Official/main/Data/USA_cars_datasets.csv\")\n",
    "#car_data_clean <- car_original_data |>\n",
    "    #...\n",
    "#mutate, filter, select, and skip as you see fit\n",
    "#car_data_tidy"
   ]
  },
  {
   "cell_type": "markdown",
   "id": "1b399ffa",
   "metadata": {},
   "source": [
    "As can be seen from the tidy data set..."
   ]
  },
  {
   "cell_type": "markdown",
   "id": "b87b421a",
   "metadata": {},
   "source": [
    "Now we can plot the data using the ggplot function, and add the linear regression model on top..."
   ]
  },
  {
   "cell_type": "code",
   "execution_count": null,
   "id": "59b464e9",
   "metadata": {
    "vscode": {
     "languageId": "r"
    }
   },
   "outputs": [],
   "source": [
    "#insert linear regression here...\n",
    "\n",
    "\n",
    "\n",
    "\n",
    "#for the plots:\n",
    "#car_predictions_brand1 <- car_best_fit_brand1 |>\n",
    " #   predict(car_data_training_brand1) |>\n",
    " #   bind_cols(car_data_training_brand1)\n",
    "#car_predictions_brand1\n",
    "\n",
    "#car_plot_brand1 <- car_predictions_brand1 |>\n",
    " #   ggplot(aes(x = specs, y = price)) +\n",
    " #   geom_point() +\n",
    " #   geom_line(mapping = aes(x = specs, y = .pred), color = \"blue\") +\n",
    " #   labs(x = \"Specs\", y = \"Price (CAD)\", color = \"Predicted Time\") +\n",
    " #   ggtitle(\"Figure 1: graph depicting the linear regression model that predicts the price of brand1 cars based off of their specs\")\n",
    "#car_plot_brand1"
   ]
  },
  {
   "cell_type": "markdown",
   "id": "01f4b477",
   "metadata": {},
   "source": [
    "We can import the patchwork package to add the plots together:"
   ]
  },
  {
   "cell_type": "code",
   "execution_count": null,
   "id": "12920e54",
   "metadata": {
    "vscode": {
     "languageId": "r"
    }
   },
   "outputs": [],
   "source": [
    "#library(patchwork)\n",
    "#plot_1 + plot_2 + plot_3"
   ]
  },
  {
   "cell_type": "markdown",
   "id": "3bef613b-3f86-49eb-aa86-2847c7656e13",
   "metadata": {},
   "source": [
    "**Expected Outcomes and significance**\n",
    "\n",
    "We can expect used BMWs and Fords to cost more than the average used car. We can expect the cost of a random used car to be around between 6000 and $22000 USD based on the top 10 most abundant used cars. Being able to estimate the cost of a used car based on brand, mileage, and year can give us knowledge to know whether to wait for a better deal or to buy now. This analysis can bring insight to the question of how much can designer brand cars with high mileage be cheaper than economy brand cars with low mileage.\n",
    "\n",
    "*Make sure to relate to intro*\n"
   ]
  },
  {
   "cell_type": "code",
   "execution_count": null,
   "id": "f0bd75ad-9aea-494b-aea5-2ca7fd07f1e9",
   "metadata": {
    "vscode": {
     "languageId": "r"
    }
   },
   "outputs": [],
   "source": []
  }
 ],
 "metadata": {
  "kernelspec": {
   "display_name": "R",
   "language": "R",
   "name": "ir"
  },
  "language_info": {
   "codemirror_mode": "r",
   "file_extension": ".r",
   "mimetype": "text/x-r-source",
   "name": "R",
   "pygments_lexer": "r",
   "version": "4.1.3"
  }
 },
 "nbformat": 4,
 "nbformat_minor": 5
}
