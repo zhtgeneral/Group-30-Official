{
 "cells": [
  {
   "cell_type": "markdown",
   "id": "2f5dad55-d697-456d-8344-911ed477b245",
   "metadata": {},
   "source": [
    "*Group 30 Contributers: Zhong Tan, Nicholas Low, Stephen Huang * \n",
    "\n",
    "*To group 30 members: add your name here as proof of contribution*"
   ]
  },
  {
   "cell_type": "markdown",
   "id": "2b22e142-5bdf-4f52-86e7-8d7e605697f6",
   "metadata": {},
   "source": [
    "To edit, go inside Jupyter. Click the diamond icon on the left bar. Click the cloud down arrow. Edit changes. Save. The project is now under [Changed]. Hover over it and click on the [+]. Fill in the summary with what you changed. Click [COMMIT]. Click the cloud up arrow. Everything is now updated."
   ]
  },
  {
   "cell_type": "markdown",
   "id": "0ed82041-34ed-433a-931d-deec1d8a5b41",
   "metadata": {},
   "source": [
    "**Using R and knn regression to predict used car costs in the US based on mileage, brand and year**"
   ]
  },
  {
   "cell_type": "markdown",
   "id": "c521c4f2-5c2f-4a7f-a864-17c9dd23e0b5",
   "metadata": {},
   "source": [
    "**Introduction**\n",
    "\n",
    "Being able to predict used car prices can save families thousands of dollars. By using the progam language R, we can plot graphs and get a prediction for how much a car may cost. We can use a method called regression and predict a numerical value for a used car's price based on factors we enter.\n",
    "\n",
    "We will predict the cost of a used car based on mileage and year. As background knowledge, we know that newer products with more technology cost more comapred tp older products with less features. We apply this knowledge to used cars in our prediction. We also know that more used products are valued less than products in better conditions. Knowing that used or worn products are valued less is why we choose mileage as a factor. We believe that overall used car prices will be changed when we change mileage and year.\n",
    "\n",
    "In our example, we use linear regression, as we want interpretability in our final results. In contrast, another option, KNN regression, tends to be more confusing to interpret. With linear regression, we might be able to predict the cost of a used car based on mileage and year. We will be using used, American car prices scraped from the web. We have taken this dataset and put it into our group's repository for easy access. To extract this dataset, we will start with read_csv() of our comma seperated sheet in .csv format, USA_cars_datasets.csv."
   ]
  },
  {
   "cell_type": "markdown",
   "id": "d997f6bc-2c8f-441a-9049-3f7bdfbfb0a3",
   "metadata": {},
   "source": [
    "**Preliminary exploratory analysis**\n",
    "\n",
    "We can simply read the online file by putting the raw data link into read_csv( ) in our code. But first we need to load our libraries."
   ]
  },
  {
   "cell_type": "code",
   "execution_count": 5,
   "id": "8940af29-49f8-4f8c-970a-21083d9593a5",
   "metadata": {
    "vscode": {
     "languageId": "r"
    }
   },
   "outputs": [],
   "source": [
    "#install.packages(\"tidyverse\")\n",
    "#install.packages(\"readr\")\n",
    "#options(repr.matrix.max.rows = 8)"
   ]
  },
  {
   "cell_type": "code",
   "execution_count": 6,
   "id": "91623a45-840f-4121-a5b7-3f1aca93ab66",
   "metadata": {
    "vscode": {
     "languageId": "r"
    }
   },
   "outputs": [],
   "source": [
    "#library(tidyverse)\n",
    "#library(readr)\n",
    "#library(repr)\n",
    "#library(rvest)\n",
    "#library(stringr)\n",
    "#library(RCurl)\n",
    "#library(tidymodels)\n",
    "#library(gridExtra)"
   ]
  },
  {
   "cell_type": "markdown",
   "id": "1bd0d53c-01a3-4738-b448-d4192bd2cd22",
   "metadata": {},
   "source": [
    "Okay, now let's see the data."
   ]
  },
  {
   "cell_type": "code",
   "execution_count": 7,
   "id": "f09f96ff-e78f-4f6b-b6b3-82f00481d0be",
   "metadata": {
    "vscode": {
     "languageId": "r"
    }
   },
   "outputs": [
    {
     "ename": "ERROR",
     "evalue": "Error in read_csv(\"https://raw.githubusercontent.com/zhtgeneral/Group-30-Official/main/Data/USA_cars_datasets.csv\"): could not find function \"read_csv\"\n",
     "output_type": "error",
     "traceback": [
      "Error in read_csv(\"https://raw.githubusercontent.com/zhtgeneral/Group-30-Official/main/Data/USA_cars_datasets.csv\"): could not find function \"read_csv\"\nTraceback:\n"
     ]
    }
   ],
   "source": [
    "car <- read_csv(\"https://raw.githubusercontent.com/zhtgeneral/Group-30-Official/main/Data/USA_cars_datasets.csv\")\n",
    "head(car)"
   ]
  },
  {
   "cell_type": "markdown",
   "id": "26b7a4fa-7aa7-402e-a93b-2e3b9fe13d0c",
   "metadata": {},
   "source": [
    "It seems like our data is already in a clear format. We have 1 observation per row and 1 variable per column. We can summarize how many observations our training data will have."
   ]
  },
  {
   "cell_type": "code",
   "execution_count": 9,
   "id": "f9c09f61-5692-41f2-b66c-1673ec905be7",
   "metadata": {
    "vscode": {
     "languageId": "r"
    }
   },
   "outputs": [],
   "source": [
    "#car_split <- initial_split(car, prop = 0.75, strata =price)\n",
    "#car_training <- training(car_split)\n",
    "#car_testing <- testing(car_split)"
   ]
  },
  {
   "cell_type": "code",
   "execution_count": 10,
   "id": "d89362ea-26c4-4c65-8dce-045300ac7f98",
   "metadata": {
    "vscode": {
     "languageId": "r"
    }
   },
   "outputs": [],
   "source": [
    "#eda_tibble <- tibble(nrow(car_training))\n",
    "#eda_tibble"
   ]
  },
  {
   "cell_type": "markdown",
   "id": "0faa4394-bd17-4f25-bd03-51208d213077",
   "metadata": {},
   "source": [
    "We seem to have 1872 observations. We can also find the average price of a used car based on the brand of the car, and we can sort by most abundant brands."
   ]
  },
  {
   "cell_type": "code",
   "execution_count": 11,
   "id": "4c77e818-781a-4215-8334-4c19cd76a51a",
   "metadata": {
    "vscode": {
     "languageId": "r"
    }
   },
   "outputs": [],
   "source": [
    "#car_avg <- car_training |>\n",
    "#             group_by(brand) |>\n",
    "#             summarise(count = n(),\n",
    "#                       avg_price = mean(price)) |>\n",
    "#             arrange(-count) \n",
    "#car_avg"
   ]
  },
  {
   "cell_type": "markdown",
   "id": "d3e2340a-8b2b-4cea-9121-439b952baff9",
   "metadata": {},
   "source": [
    "We seem to have mostly Fords, Dodges, Nissans, and Chevrolets in our training data. We can now make a plot of the average price of a used car relative to the car brand and only plot the top 10 most abundant brands.\n"
   ]
  },
  {
   "cell_type": "code",
   "execution_count": 12,
   "id": "36d6b75a-dd1b-451c-861a-abcfd78b1896",
   "metadata": {
    "vscode": {
     "languageId": "r"
    }
   },
   "outputs": [],
   "source": [
    "#car_avg_common <- car_avg |>\n",
    "#                 slice(1:10)\n",
    "#eda_plot <- car_avg_common |>\n",
    "#            ggplot(aes(x=avg_price, y=fct_reorder(brand, count, .desc = FALSE))) +\n",
    "#            geom_bar(stat=\"identity\") +\n",
    "#            labs(x=\"Average price of used car\",\n",
    "#            y=\"Brand of used car in order of most abundant\") +\n",
    "#            theme(text = element_text(size = 20)) +\n",
    "#            ggtitle(\"Average cost of top 10 car \\nbrands in the US based on total \\nnumber of cars\")\n",
    "#\n",
    "#eda_plot"
   ]
  },
  {
   "cell_type": "markdown",
   "id": "fb23b574-ff4c-434f-8973-d5be0ae3fed3",
   "metadata": {},
   "source": [
    "We can notice that BWMs are not as abundant as Fords, but BMWs cost more. If we have a random, used BWM, we expect that it costs more."
   ]
  },
  {
   "cell_type": "markdown",
   "id": "cdc7a111-8942-409a-ab36-87526514f346",
   "metadata": {},
   "source": [
    "**Methods**\n",
    "\n",
    "To conduct our data analysis, we will look at only mileage, production year of the car, and the brand. The lot number, vin number, state, and the day the listing was uploaded doesn't make a difference. We can visualize our results with many scatterplots. We can use a scatterplot with price on the y axis and year/mileage on the x axis then have a bar plot with price on the x axis and brand on the y axis (like the graph above). We can also get a  measure of accuracy if we use a model called knn regression. As car brands have an effect on the price of cars (as a car from a reputable or luxury car brand will generally be marketed at a higher price than a car with the same specs from a different car brand), we will be separating the data by the car brand and performing regression on every brand individually. This way, we are able to predict car prices accounting for individual brands. We can then visualize these in a line graph and place then together using the patchwork package.\n",
    "\n",
    "*KNN regression vs linear regression*\n",
    "\n",
    "*Use GGPairs*"
   ]
  },
  {
   "cell_type": "markdown",
   "id": "6a0a170b",
   "metadata": {},
   "source": [
    "To begin, we must read and clean the data:"
   ]
  },
  {
   "cell_type": "code",
   "execution_count": null,
   "id": "0ba26cff",
   "metadata": {
    "vscode": {
     "languageId": "r"
    }
   },
   "outputs": [],
   "source": [
    "#car_original_data <- read_csv(\"https://raw.githubusercontent.com/zhtgeneral/Group-30-Official/main/Data/USA_cars_datasets.csv\")\n",
    "#car_data_clean <- car_original_data |>\n",
    "    #...\n",
    "#mutate, filter, select, and skip as you see fit\n",
    "#car_data_tidy"
   ]
  },
  {
   "cell_type": "markdown",
   "id": "1b399ffa",
   "metadata": {},
   "source": [
    "As can be seen from the tidy data set..."
   ]
  },
  {
   "cell_type": "markdown",
   "id": "b87b421a",
   "metadata": {},
   "source": [
    "Now we can plot the data using the ggplot function, and add the linear regression model on top..."
   ]
  },
  {
   "cell_type": "code",
   "execution_count": null,
   "id": "59b464e9",
   "metadata": {
    "vscode": {
     "languageId": "r"
    }
   },
   "outputs": [],
   "source": [
    "#insert linear regression here...\n",
    "\n",
    "\n",
    "\n",
    "\n",
    "#for the plots:\n",
    "#car_predictions_brand1 <- car_best_fit_brand1 |>\n",
    " #   predict(car_data_training_brand1) |>\n",
    " #   bind_cols(car_data_training_brand1)\n",
    "#car_predictions_brand1\n",
    "\n",
    "#car_plot_brand1 <- car_predictions_brand1 |>\n",
    " #   ggplot(aes(x = specs, y = price)) +\n",
    " #   geom_point() +\n",
    " #   geom_line(mapping = aes(x = specs, y = .pred), color = \"blue\") +\n",
    " #   labs(x = \"Specs\", y = \"Price (CAD)\", color = \"Predicted Time\") +\n",
    " #   ggtitle(\"Figure 1: graph depicting the linear regression model that predicts the price of brand1 cars based off of their specs\")\n",
    "#car_plot_brand1"
   ]
  },
  {
   "cell_type": "markdown",
   "id": "01f4b477",
   "metadata": {},
   "source": [
    "We can import the patchwork package to add the plots together:"
   ]
  },
  {
   "cell_type": "code",
   "execution_count": null,
   "id": "12920e54",
   "metadata": {
    "vscode": {
     "languageId": "r"
    }
   },
   "outputs": [],
   "source": [
    "#library(patchwork)\n",
    "#plot_1 + plot_2 + plot_3"
   ]
  },
  {
   "cell_type": "markdown",
   "id": "3bef613b-3f86-49eb-aa86-2847c7656e13",
   "metadata": {},
   "source": [
    "**Expected Outcomes and significance**\n",
    "\n",
    "We can expect used BMWs and Fords to cost more than the average used car. We can expect the cost of a random used car to be around between 6000 and $22000 USD based on the top 10 most abundant used cars. Being able to estimate the cost of a used car based on brand, mileage, and year can give us knowledge to know whether to wait for a better deal or to buy now. This analysis can bring insight to the question of how much can designer brand cars with high mileage be cheaper than economy brand cars with low mileage.\n",
    "\n",
    "*Make sure to relate to intro*\n"
   ]
  },
  {
   "cell_type": "code",
   "execution_count": null,
   "id": "f0bd75ad-9aea-494b-aea5-2ca7fd07f1e9",
   "metadata": {
    "vscode": {
     "languageId": "r"
    }
   },
   "outputs": [],
   "source": []
  }
 ],
 "metadata": {
  "kernelspec": {
   "display_name": "R",
   "language": "R",
   "name": "ir"
  },
  "language_info": {
   "codemirror_mode": "r",
   "file_extension": ".r",
   "mimetype": "text/x-r-source",
   "name": "R",
   "pygments_lexer": "r",
   "version": "4.1.3"
  }
 },
 "nbformat": 4,
 "nbformat_minor": 5
}
