{
 "cells": [
  {
   "cell_type": "markdown",
   "id": "2f5dad55-d697-456d-8344-911ed477b245",
   "metadata": {},
   "source": [
    "*Group 30 Contributers: Zhong Tan, Nicholas Low, Stephen Huang* \n",
    "\n",
    "*To group 30 members: add your name here as proof of contribution*"
   ]
  },
  {
   "cell_type": "markdown",
   "id": "2b22e142-5bdf-4f52-86e7-8d7e605697f6",
   "metadata": {},
   "source": [
    "To edit, go inside Jupyter. Click the diamond icon on the left bar. Click the cloud down arrow. Edit changes. Save. The project is now under [Changed]. Hover over it and click on the [+]. Fill in the summary with what you changed. Click [COMMIT]. Click the cloud up arrow. Everything is now updated."
   ]
  },
  {
   "cell_type": "markdown",
   "id": "0ed82041-34ed-433a-931d-deec1d8a5b41",
   "metadata": {},
   "source": [
    "**Using R and knn regression to predict used car costs in the US based on mileage, brand and year**"
   ]
  },
  {
   "cell_type": "markdown",
   "id": "c521c4f2-5c2f-4a7f-a864-17c9dd23e0b5",
   "metadata": {},
   "source": [
    "**Introduction**\n",
    "\n",
    "Being able to predict used car prices can save families thousands of dollars. By using the progam language R, we can plot graphs and get a prediction for how much a car may cost. We can use a method called regression and predict a numerical value for a used car's price based on factors we enter.\n",
    "\n",
    "We will predict the cost of a used car based on mileage and year. As background knowledge, we know that newer products with more technology cost more compared to older products with less features. We apply this knowledge to used cars in our prediction. We also know that used products are valued less than products in better conditions. Knowing that used or worn products are valued less is why we choose mileage as a factor. We believe that overall used car prices will be changed when we change mileage and year.\n",
    "\n",
    "In our example, we use linear regression, as we want interpretability in our final results. In contrast, another option, KNN regression, tends to be more confusing to interpret. With linear regression, we might be able to predict the cost of a used car based on mileage and year. We will be using used, American car prices scraped from the web. We have taken this dataset and put it into our group's repository for easy access. To extract this dataset, we will start with read_csv() of our comma seperated sheet in .csv format, USA_cars_datasets.csv.\n",
    "\n",
    "*Choose which RMSPE is lower in KNN vs linear regression*"
   ]
  },
  {
   "cell_type": "markdown",
   "id": "d997f6bc-2c8f-441a-9049-3f7bdfbfb0a3",
   "metadata": {},
   "source": [
    "**Preliminary exploratory analysis**\n",
    "\n",
    "First we load our libraries and set our seed to make sure our work is reproducible."
   ]
  },
  {
   "cell_type": "code",
   "execution_count": 1,
   "id": "8940af29-49f8-4f8c-970a-21083d9593a5",
   "metadata": {
    "vscode": {
     "languageId": "r"
    }
   },
   "outputs": [
    {
     "name": "stderr",
     "output_type": "stream",
     "text": [
      "Updating HTML index of packages in '.Library'\n",
      "\n",
      "Making 'packages.html' ...\n",
      " done\n",
      "\n"
     ]
    }
   ],
   "source": [
    "install.packages(\"tidyverse\")"
   ]
  },
  {
   "cell_type": "code",
   "execution_count": 2,
   "id": "91623a45-840f-4121-a5b7-3f1aca93ab66",
   "metadata": {
    "vscode": {
     "languageId": "r"
    }
   },
   "outputs": [],
   "source": [
    "library(tidyverse)\n",
    "library(digest)\n",
    "library(repr)\n",
    "library(tidymodels)\n",
    "library(cowplot)\n",
    "library(tidymodels)\n",
    "library(GGally)\n",
    "library(ISLR)\n",
    "set.seed(0)\n",
    "options(repr.matrix.max.rows = 8)"
   ]
  },
  {
   "cell_type": "markdown",
   "id": "1bd0d53c-01a3-4738-b448-d4192bd2cd22",
   "metadata": {},
   "source": [
    "Okay, let's see our data."
   ]
  },
  {
   "cell_type": "code",
   "execution_count": null,
   "id": "f09f96ff-e78f-4f6b-b6b3-82f00481d0be",
   "metadata": {
    "vscode": {
     "languageId": "r"
    }
   },
   "outputs": [],
   "source": [
    "car <- read_csv(\"https://raw.githubusercontent.com/zhtgeneral/Group-30-Official/main/Data/USA_cars_datasets.csv\")\n",
    "head(car)"
   ]
  },
  {
   "cell_type": "markdown",
   "id": "4dc24977-531d-46e0-b50e-abffa4a1c319",
   "metadata": {},
   "source": [
    "Our columns are number, price, brand, model, year, title, mileage, color, vin, lot, state, country and condition. We have 1 variable per column. We notice that we have 1 observation per row. This means we have a tidy dataset."
   ]
  },
  {
   "cell_type": "markdown",
   "id": "26b7a4fa-7aa7-402e-a93b-2e3b9fe13d0c",
   "metadata": {},
   "source": [
    "Since we're only looking at mileage and year, we will select those columns."
   ]
  },
  {
   "cell_type": "code",
   "execution_count": null,
   "id": "354ee204-1b39-482b-a03d-c3b175ef48ad",
   "metadata": {},
   "outputs": [],
   "source": [
    "car <- car |>\n",
    "       select(price, year, mileage)\n",
    "head(car)"
   ]
  },
  {
   "cell_type": "markdown",
   "id": "76205909-22a8-4afa-9160-253325796a98",
   "metadata": {},
   "source": [
    "This is our reduced data. With only 3 columns, it will be easier to work on it. Let's get an idea for the relationship between these variables. "
   ]
  },
  {
   "cell_type": "code",
   "execution_count": null,
   "id": "358547af-d63d-4203-a0da-566bb9a30992",
   "metadata": {},
   "outputs": [],
   "source": [
    "options(repr.plot.width = 15, repr.plot.height = 7)\n",
    "car_year <- car |>\n",
    "            ggplot(aes(x = price, y = year)) +\n",
    "            geom_point() +\n",
    "            ylim(1990, 2021) +\n",
    "            labs(x = \"Price\",\n",
    "                 y = \"Year\",\n",
    "                 title = \"Price vs Year of used cars in the US\")\n",
    "car_mileage <- car |>\n",
    "            ggplot(aes(x = price, y = mileage)) +\n",
    "            geom_point() +\n",
    "            ylim(0, 400000) +\n",
    "            labs(x = \"Price\",\n",
    "                 y = \"Mileage\",\n",
    "                 title = \"Price vs Mileage of used cars in the US\")\n",
    "plot_grid(car_year, car_mileage, ncol = 2)"
   ]
  },
  {
   "cell_type": "markdown",
   "id": "415126ed-d19e-42bc-8275-c97f0010c1a0",
   "metadata": {},
   "source": [
    "So these are the relationships between price and each of the variables. It seems plausible to use linear regression to represent the trends. Let's try both linear regression and KNN regression to see which RMSPE is lower and which model is more accurate."
   ]
  },
  {
   "cell_type": "code",
   "execution_count": null,
   "id": "f9c09f61-5692-41f2-b66c-1673ec905be7",
   "metadata": {
    "vscode": {
     "languageId": "r"
    }
   },
   "outputs": [],
   "source": [
    "# Let's use linear regression while training it with our training data.\n",
    "car_split <- initial_split(car, prop = 0.75, strata =price)\n",
    "car_train <- training(car_split)\n",
    "car_test <- testing(car_split)\n",
    "\n",
    "car_recipe <- recipe(price ~ mileage, year, data = car_train) |>\n",
    "              step_scale(all_predictors()) |>\n",
    "              step_center(all_predictors())\n",
    "\n",
    "lin_spec <- linear_reg() |>\n",
    "            set_engine(\"lm\") |>\n",
    "            set_mode(\"regression\")\n",
    "\n",
    "lin_fit <- workflow() |>\n",
    "           add_recipe(car_recipe) |>\n",
    "           add_model(lin_spec) |>\n",
    "           fit(data = car_train)\n",
    "\n",
    "lin_car_results <- lin_fit |>\n",
    "                   predict(car_test) |>\n",
    "                   bind_cols(car_test) |>\n",
    "                   metrics(truth = price, estimate = .pred) |>\n",
    "                   filter(.metric == \"rmse\") |>\n",
    "                   pull()\n",
    "\n",
    "lin_car_results"
   ]
  },
  {
   "cell_type": "markdown",
   "id": "53364144-c11d-47e7-8b9a-a45bfd643fae",
   "metadata": {
    "vscode": {
     "languageId": "r"
    }
   },
   "source": [
    "This is our RMSPE when we use linear regression. Let's compare it to KNN regression."
   ]
  },
  {
   "cell_type": "code",
   "execution_count": null,
   "id": "c252323a-2e77-40a9-9124-84760027d64d",
   "metadata": {},
   "outputs": [],
   "source": [
    "car_recipe <- recipe(price ~ mileage, year, data = car_train) |>\n",
    "              step_scale(all_predictors()) |>\n",
    "              step_center(all_predictors())\n",
    "\n",
    "knn_spec <- nearest_neighbor(weight_func = \"rectangular\",\n",
    "                             neighbors = tune()) |>\n",
    "            set_engine(\"kknn\") |>\n",
    "            set_mode(\"regression\")\n",
    "\n",
    "knn_vfold <- vfold_cv(car_train, v = 5, strata = price)\n",
    "\n",
    "knn_fit <- workflow() |>\n",
    "           add_recipe(car_recipe) |>\n",
    "           add_model(knn_spec)\n",
    "\n",
    "grid_vals <- tibble(neighbors = seq(from = 1, to = 200, by = 5))\n",
    "\n",
    "knn_car_results <- knn_fit |>\n",
    "                    tune_grid(resamples = knn_vfold, grid = grid_vals) |>\n",
    "                    collect_metrics() |>\n",
    "                    filter(.metric == \"rmse\") |>\n",
    "                    filter(mean == min(mean))  #Finding best K value for KNN regression\n",
    "knn_car_results"
   ]
  },
  {
   "cell_type": "markdown",
   "id": "85857d02-5f69-4577-b3e5-3bf14ebf3c1a",
   "metadata": {},
   "source": [
    "We see that we want k = 96 in our linear regression. Let's try this and see the RMSPE from KNN regression and compare it to linear regression."
   ]
  },
  {
   "cell_type": "code",
   "execution_count": null,
   "id": "eed8f8ab-3b15-4245-a0c5-a433d7a4539f",
   "metadata": {},
   "outputs": [],
   "source": [
    "knn_spec <- nearest_neighbor(weight_func = \"rectangular\",\n",
    "                             neighbors = 96) |>\n",
    "            set_engine(\"kknn\") |>\n",
    "            set_mode(\"regression\")\n",
    "\n",
    "knn_fit <- workflow() |>\n",
    "           add_recipe(car_recipe) |>\n",
    "           add_model(knn_spec) |>\n",
    "           fit(data = car_train)\n",
    "\n",
    "knn_car_summary <- knn_fit |>\n",
    "                    predict(car_test) |>\n",
    "                    bind_cols(car_test) |>\n",
    "                    metrics(truth = price, estimate = .pred) |>\n",
    "                    filter(.metric == \"rmse\")\n",
    "knn_car_summary"
   ]
  },
  {
   "cell_type": "markdown",
   "id": "fb23b574-ff4c-434f-8973-d5be0ae3fed3",
   "metadata": {},
   "source": [
    "So we have the RMSPE from KNN regression. This is lower than the  11327 from linear regression. This lower RMSPE value means we should use KNN regression."
   ]
  },
  {
   "cell_type": "markdown",
   "id": "cdc7a111-8942-409a-ab36-87526514f346",
   "metadata": {},
   "source": [
    "**Methods**\n",
    "\n",
    "To conduct our data analysis, we will look at only mileage, production year of the car, and the brand. The lot number, vin number, state, and the day the listing was uploaded doesn't make a difference. We can visualize our results with many scatterplots. We can use a scatterplot with price on the y axis and year/mileage on the x axis then have a bar plot with price on the x axis and brand on the y axis (like the graph above). We can also get a  measure of accuracy if we use a model called knn regression. As car brands have an effect on the price of cars (as a car from a reputable or luxury car brand will generally be marketed at a higher price than a car with the same specs from a different car brand), we will be separating the data by the car brand and performing regression on every brand individually. This way, we are able to predict car prices accounting for individual brands. We can then visualize these in a line graph and place then together using the patchwork package.\n",
    "\n",
    "*KNN regression vs linear regression*\n",
    "\n",
    "*Use GGPairs*"
   ]
  },
  {
   "cell_type": "markdown",
   "id": "6a0a170b",
   "metadata": {},
   "source": [
    "To begin, we must read and clean the data:"
   ]
  },
  {
   "cell_type": "code",
   "execution_count": null,
   "id": "0ba26cff",
   "metadata": {
    "vscode": {
     "languageId": "r"
    }
   },
   "outputs": [],
   "source": [
    "#car_original_data <- read_csv(\"https://raw.githubusercontent.com/zhtgeneral/Group-30-Official/main/Data/USA_cars_datasets.csv\")\n",
    "#car_data_clean <- car_original_data |>\n",
    "    #...\n",
    "#mutate, filter, select, and skip as you see fit\n",
    "#car_data_tidy"
   ]
  },
  {
   "cell_type": "markdown",
   "id": "1b399ffa",
   "metadata": {},
   "source": [
    "As can be seen from the tidy data set..."
   ]
  },
  {
   "cell_type": "markdown",
   "id": "b87b421a",
   "metadata": {},
   "source": [
    "Now we can plot the data using the ggplot function, and add the linear regression model on top..."
   ]
  },
  {
   "cell_type": "code",
   "execution_count": null,
   "id": "59b464e9",
   "metadata": {
    "vscode": {
     "languageId": "r"
    }
   },
   "outputs": [],
   "source": [
    "#insert linear regression here...\n",
    "\n",
    "\n",
    "\n",
    "\n",
    "#for the plots:\n",
    "#car_predictions_brand1 <- car_best_fit_brand1 |>\n",
    " #   predict(car_data_training_brand1) |>\n",
    " #   bind_cols(car_data_training_brand1)\n",
    "#car_predictions_brand1\n",
    "\n",
    "#car_plot_brand1 <- car_predictions_brand1 |>\n",
    " #   ggplot(aes(x = specs, y = price)) +\n",
    " #   geom_point() +\n",
    " #   geom_line(mapping = aes(x = specs, y = .pred), color = \"blue\") +\n",
    " #   labs(x = \"Specs\", y = \"Price (CAD)\", color = \"Predicted Time\") +\n",
    " #   ggtitle(\"Figure 1: graph depicting the linear regression model that predicts the price of brand1 cars based off of their specs\")\n",
    "#car_plot_brand1"
   ]
  },
  {
   "cell_type": "markdown",
   "id": "01f4b477",
   "metadata": {},
   "source": [
    "We can import the patchwork package to add the plots together:"
   ]
  },
  {
   "cell_type": "code",
   "execution_count": null,
   "id": "12920e54",
   "metadata": {
    "vscode": {
     "languageId": "r"
    }
   },
   "outputs": [],
   "source": [
    "#library(patchwork)\n",
    "#plot_1 + plot_2 + plot_3"
   ]
  },
  {
   "cell_type": "markdown",
   "id": "3bef613b-3f86-49eb-aa86-2847c7656e13",
   "metadata": {},
   "source": [
    "**Expected Outcomes and significance**\n",
    "\n",
    "We can expect used BMWs and Fords to cost more than the average used car. We can expect the cost of a random used car to be around between 6000 and $22000 USD based on the top 10 most abundant used cars. Being able to estimate the cost of a used car based on brand, mileage, and year can give us knowledge to know whether to wait for a better deal or to buy now. This analysis can bring insight to the question of how much can designer brand cars with high mileage be cheaper than economy brand cars with low mileage.\n",
    "\n",
    "*Make sure to relate to intro*\n"
   ]
  },
  {
   "cell_type": "code",
   "execution_count": null,
   "id": "f0bd75ad-9aea-494b-aea5-2ca7fd07f1e9",
   "metadata": {
    "vscode": {
     "languageId": "r"
    }
   },
   "outputs": [],
   "source": []
  }
 ],
 "metadata": {
  "kernelspec": {
   "display_name": "R",
   "language": "R",
   "name": "ir"
  },
  "language_info": {
   "codemirror_mode": "r",
   "file_extension": ".r",
   "mimetype": "text/x-r-source",
   "name": "R",
   "pygments_lexer": "r",
   "version": "4.1.3"
  }
 },
 "nbformat": 4,
 "nbformat_minor": 5
}
